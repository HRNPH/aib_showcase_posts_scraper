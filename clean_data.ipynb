{
 "cells": [
  {
   "cell_type": "code",
   "execution_count": 1,
   "metadata": {},
   "outputs": [],
   "source": [
    "import pandas as pd\n",
    "import numpy as np"
   ]
  },
  {
   "cell_type": "code",
   "execution_count": null,
   "metadata": {},
   "outputs": [],
   "source": [
    "data = pd.read_csv('showcase_data.csv')\n",
    "# sort by ID to filter out 2021 showcase series\n",
    "data = data.sort_values(by=['ID'])\n",
    "data = data.reset_index(drop=True)\n",
    "data = data[20:] # skip first 20 projects(it's 2021 showcase series)\n",
    "data.head(1) # shold start with \"BACK\" project (as for 2022)"
   ]
  },
  {
   "cell_type": "code",
   "execution_count": 3,
   "metadata": {},
   "outputs": [],
   "source": [
    "def process_this(x):\n",
    "    # split everything character\n",
    "    x = [*x] # using unpacked\n",
    "    exception = [\"'\", \",\", ']', '[']\n",
    "    for i in range(len(x)):\n",
    "        if x[i] in exception:\n",
    "            x[i] = ''\n",
    "\n",
    "        if x[-i] in exception:\n",
    "            x[-i] = ''\n",
    "        \n",
    "        if i == 15:\n",
    "            break\n",
    "\n",
    "    x = ''.join(x)\n",
    "    return x[1:]\n"
   ]
  },
  {
   "cell_type": "code",
   "execution_count": 4,
   "metadata": {},
   "outputs": [],
   "source": [
    "data['summary'] = data['summary'].map(lambda x: process_this(x))\n",
    "data['reason'] = data['reason'].map(lambda x: process_this(x))"
   ]
  },
  {
   "cell_type": "code",
   "execution_count": 116,
   "metadata": {},
   "outputs": [
    {
     "data": {
      "text/plain": [
       "True"
      ]
     },
     "execution_count": 116,
     "metadata": {},
     "output_type": "execute_result"
    }
   ],
   "source": [
    "# create date (dummy)\n",
    "dates = []\n",
    "for x in range(len(data)):\n",
    "    x += 1\n",
    "    date = f'{x}-7-22'\n",
    "    if x > 31:\n",
    "        x = x%31\n",
    "        date = f'{x}-8-22'\n",
    "    dates.append(date)\n",
    "\n",
    "print(len(dates) == len(data))\n",
    "data['date'] = dates"
   ]
  },
  {
   "cell_type": "code",
   "execution_count": 119,
   "metadata": {},
   "outputs": [],
   "source": [
    "# to csv\n",
    "data.to_csv('showcase_data_cleaned(2022).csv', index=False)"
   ]
  }
 ],
 "metadata": {
  "kernelspec": {
   "display_name": "pytorch-env37",
   "language": "python",
   "name": "python3"
  },
  "language_info": {
   "codemirror_mode": {
    "name": "ipython",
    "version": 3
   },
   "file_extension": ".py",
   "mimetype": "text/x-python",
   "name": "python",
   "nbconvert_exporter": "python",
   "pygments_lexer": "ipython3",
   "version": "3.7.13 (default, Mar 28 2022, 08:03:21) [MSC v.1916 64 bit (AMD64)]"
  },
  "orig_nbformat": 4,
  "vscode": {
   "interpreter": {
    "hash": "bf6f08387108721775e3e7f84c72ffb8aaa11c9296882e4b4dba03992abc3de0"
   }
  }
 },
 "nbformat": 4,
 "nbformat_minor": 2
}
