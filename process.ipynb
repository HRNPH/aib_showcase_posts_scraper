{
 "cells": [
  {
   "cell_type": "code",
   "execution_count": 1,
   "metadata": {},
   "outputs": [],
   "source": [
    "import pandas as pd\n",
    "import numpy as np"
   ]
  },
  {
   "cell_type": "code",
   "execution_count": 2,
   "metadata": {},
   "outputs": [
    {
     "data": {
      "text/html": [
       "<div>\n",
       "<style scoped>\n",
       "    .dataframe tbody tr th:only-of-type {\n",
       "        vertical-align: middle;\n",
       "    }\n",
       "\n",
       "    .dataframe tbody tr th {\n",
       "        vertical-align: top;\n",
       "    }\n",
       "\n",
       "    .dataframe thead th {\n",
       "        text-align: right;\n",
       "    }\n",
       "</style>\n",
       "<table border=\"1\" class=\"dataframe\">\n",
       "  <thead>\n",
       "    <tr style=\"text-align: right;\">\n",
       "      <th></th>\n",
       "      <th>title</th>\n",
       "      <th>ID</th>\n",
       "      <th>summary</th>\n",
       "      <th>title_image</th>\n",
       "      <th>images</th>\n",
       "      <th>links</th>\n",
       "      <th>reason</th>\n",
       "      <th>author</th>\n",
       "      <th>fulltext</th>\n",
       "      <th>post_url</th>\n",
       "    </tr>\n",
       "  </thead>\n",
       "  <tbody>\n",
       "    <tr>\n",
       "      <th>20</th>\n",
       "      <td>BACK (Blind All Can Know) - Action Captioning...</td>\n",
       "      <td>21</td>\n",
       "      <td>['', '- โมเดลอธิบายรูปภาพ (image captioning) เ...</td>\n",
       "      <td>https://scontent.fbkk8-3.fna.fbcdn.net/v/t39.3...</td>\n",
       "      <td>['https://scontent.fbkk8-3.fna.fbcdn.net/v/t39...</td>\n",
       "      <td>\\nอ่านรายละเอียดเพิ่มเติม: https://medium.com/...</td>\n",
       "      <td>['แรงจูงในในการเข้าร่วมโครงการ (จากใบสมัครเข้า...</td>\n",
       "      <td>โชติวัฒน์ ตั้งสถาพร (ไนน์) / มัธยมศึกษาปีที่ ...</td>\n",
       "      <td>#AIBuilders Showcase Series #21 - BACK (Blind ...</td>\n",
       "      <td>https://facebook.com/aibuildersx/posts/4053377...</td>\n",
       "    </tr>\n",
       "  </tbody>\n",
       "</table>\n",
       "</div>"
      ],
      "text/plain": [
       "                                                title  ID  \\\n",
       "20   BACK (Blind All Can Know) - Action Captioning...  21   \n",
       "\n",
       "                                              summary  \\\n",
       "20  ['', '- โมเดลอธิบายรูปภาพ (image captioning) เ...   \n",
       "\n",
       "                                          title_image  \\\n",
       "20  https://scontent.fbkk8-3.fna.fbcdn.net/v/t39.3...   \n",
       "\n",
       "                                               images  \\\n",
       "20  ['https://scontent.fbkk8-3.fna.fbcdn.net/v/t39...   \n",
       "\n",
       "                                                links  \\\n",
       "20  \\nอ่านรายละเอียดเพิ่มเติม: https://medium.com/...   \n",
       "\n",
       "                                               reason  \\\n",
       "20  ['แรงจูงในในการเข้าร่วมโครงการ (จากใบสมัครเข้า...   \n",
       "\n",
       "                                               author  \\\n",
       "20   โชติวัฒน์ ตั้งสถาพร (ไนน์) / มัธยมศึกษาปีที่ ...   \n",
       "\n",
       "                                             fulltext  \\\n",
       "20  #AIBuilders Showcase Series #21 - BACK (Blind ...   \n",
       "\n",
       "                                             post_url  \n",
       "20  https://facebook.com/aibuildersx/posts/4053377...  "
      ]
     },
     "execution_count": 2,
     "metadata": {},
     "output_type": "execute_result"
    }
   ],
   "source": [
    "data = pd.read_csv('showcase_data.csv')\n",
    "# sort by ID to filter out 2021 showcase series\n",
    "data = data.sort_values(by=['ID'])\n",
    "data = data.reset_index(drop=True)\n",
    "data = data[20:] # skip first 20 projects(it's 2021 showcase series)\n",
    "data.head(1) # shold start with \"BACK\" project (as for 2022)"
   ]
  },
  {
   "cell_type": "code",
   "execution_count": 3,
   "metadata": {},
   "outputs": [],
   "source": [
    "def process_this(x):\n",
    "    # split everything character\n",
    "    x = [*x] # using unpacked\n",
    "    exception = [\"'\", \",\", ']', '[']\n",
    "    for i in range(len(x)):\n",
    "        if x[i] in exception:\n",
    "            x[i] = ''\n",
    "\n",
    "        if x[-i] in exception:\n",
    "            x[-i] = ''\n",
    "        \n",
    "        if i == 15:\n",
    "            break\n",
    "\n",
    "    x = ''.join(x)\n",
    "    return x[1:]\n"
   ]
  },
  {
   "cell_type": "code",
   "execution_count": 4,
   "metadata": {},
   "outputs": [],
   "source": [
    "data['summary'] = data['summary'].map(lambda x: process_this(x))\n",
    "data['reason'] = data['reason'].map(lambda x: process_this(x))"
   ]
  },
  {
   "cell_type": "code",
   "execution_count": 19,
   "metadata": {},
   "outputs": [
    {
     "data": {
      "text/plain": [
       "array(['\\nอ่านรายละเอียดเพิ่ม', '\\nทดลองเล่น webapp ได',\n",
       "       '\\nทดลองเล่น notebook ', '\\nเรียกใช้ผ่าน huggin',\n",
       "       '\\nทดลองเล่น streamlit', '\\nทดลองดูวิดีโอได้ที่',\n",
       "       '\\nทดลองใช้ notebook ไ', '\\nทดลองใช้ webapp ได้',\n",
       "       '\\nทดลองเล่นใน noteboo', '\\nทดลองเล่นใน webapp:',\n",
       "       '\\nลองเล่น webapp: htt', '\\nลองแอ้ดไลน์ไปใช้งาน',\n",
       "       '\\nลองใช้ webapp ได้ที', '\\nลองใช้ใน HuggingFac',\n",
       "       '\\nลองใช้ notebook ได้', '\\nทดลองใช้ได้ที่: htt',\n",
       "       '\\nทดลองใช้ได้ที่: 54.'], dtype=object)"
      ]
     },
     "execution_count": 19,
     "metadata": {},
     "output_type": "execute_result"
    }
   ],
   "source": [
    "data['links'][:].apply(lambda x: x[:20]).unique()"
   ]
  },
  {
   "cell_type": "code",
   "execution_count": 103,
   "metadata": {},
   "outputs": [
    {
     "data": {
      "text/plain": [
       "title          0\n",
       "ID             0\n",
       "summary        0\n",
       "title_image    0\n",
       "images         0\n",
       "links          0\n",
       "reason         0\n",
       "author         0\n",
       "fulltext       0\n",
       "post_url       0\n",
       "dtype: int64"
      ]
     },
     "execution_count": 103,
     "metadata": {},
     "output_type": "execute_result"
    }
   ],
   "source": [
    "# is na?\n",
    "data.isna().sum()"
   ]
  },
  {
   "cell_type": "code",
   "execution_count": 116,
   "metadata": {},
   "outputs": [
    {
     "data": {
      "text/plain": [
       "True"
      ]
     },
     "execution_count": 116,
     "metadata": {},
     "output_type": "execute_result"
    }
   ],
   "source": [
    "dates = []\n",
    "for x in range(len(data)):\n",
    "    x += 1\n",
    "    date = f'{x}-7-22'\n",
    "    if x > 31:\n",
    "        x = x%31\n",
    "        date = f'{x}-8-22'\n",
    "    dates.append(date)\n",
    "\n",
    "len(dates) == len(data)"
   ]
  },
  {
   "cell_type": "code",
   "execution_count": 117,
   "metadata": {},
   "outputs": [],
   "source": [
    "data['date'] = dates"
   ]
  },
  {
   "cell_type": "code",
   "execution_count": 118,
   "metadata": {},
   "outputs": [
    {
     "data": {
      "text/html": [
       "<div>\n",
       "<style scoped>\n",
       "    .dataframe tbody tr th:only-of-type {\n",
       "        vertical-align: middle;\n",
       "    }\n",
       "\n",
       "    .dataframe tbody tr th {\n",
       "        vertical-align: top;\n",
       "    }\n",
       "\n",
       "    .dataframe thead th {\n",
       "        text-align: right;\n",
       "    }\n",
       "</style>\n",
       "<table border=\"1\" class=\"dataframe\">\n",
       "  <thead>\n",
       "    <tr style=\"text-align: right;\">\n",
       "      <th></th>\n",
       "      <th>title</th>\n",
       "      <th>ID</th>\n",
       "      <th>summary</th>\n",
       "      <th>title_image</th>\n",
       "      <th>images</th>\n",
       "      <th>links</th>\n",
       "      <th>reason</th>\n",
       "      <th>author</th>\n",
       "      <th>fulltext</th>\n",
       "      <th>post_url</th>\n",
       "      <th>date</th>\n",
       "    </tr>\n",
       "  </thead>\n",
       "  <tbody>\n",
       "    <tr>\n",
       "      <th>50</th>\n",
       "      <td>Crossec : ระบบส่งเสริมการทำปฏิบัติการเนื้อเยื...</td>\n",
       "      <td>51</td>\n",
       "      <td>- โมเดลจำแนกภาพตัดขวางเนื้อเยื่อพืช 8 ประเภท (...</td>\n",
       "      <td>https://scontent.fbkk12-5.fna.fbcdn.net/v/t39....</td>\n",
       "      <td>['https://scontent.fbkk12-5.fna.fbcdn.net/v/t3...</td>\n",
       "      <td>\\nลองใช้ webapp ได้ที่: https://share.streamli...</td>\n",
       "      <td>มีความสนใจในภาษา Python แต่ยังใช้งานได้ในระดับ...</td>\n",
       "      <td>วิทวัส กิติภัทร์ถาวร (เอิร์ธ) / มัธยมศึกษาปีท...</td>\n",
       "      <td>#AIBuilders Showcase Series #51 - Crossec : ระ...</td>\n",
       "      <td>https://facebook.com/aibuildersx/posts/4328568...</td>\n",
       "      <td>31-7-22</td>\n",
       "    </tr>\n",
       "    <tr>\n",
       "      <th>51</th>\n",
       "      <td>American Sign Language</td>\n",
       "      <td>52</td>\n",
       "      <td>- แรงบันดาลใจจากการดูวิดีโอที่มีชื่อว่า “ครู…โ...</td>\n",
       "      <td>https://scontent.fbkk12-3.fna.fbcdn.net/v/t39....</td>\n",
       "      <td>['https://scontent.fbkk12-3.fna.fbcdn.net/v/t3...</td>\n",
       "      <td>\\nลองใช้ webapp ได้ที่: https://share.streamli...</td>\n",
       "      <td>จากประสบการณ์ที่หนูเคยได้เข้าร่วมกิจกรรม และเข...</td>\n",
       "      <td>กรกมล แสงสว่าง (เบลล์) / มัธยมศึกษาปีที่ 6 / ...</td>\n",
       "      <td>#AIBuilders Showcase Series #52 - American Sig...</td>\n",
       "      <td>https://facebook.com/aibuildersx/posts/4349121...</td>\n",
       "      <td>1-8-22</td>\n",
       "    </tr>\n",
       "  </tbody>\n",
       "</table>\n",
       "</div>"
      ],
      "text/plain": [
       "                                                title  ID  \\\n",
       "50   Crossec : ระบบส่งเสริมการทำปฏิบัติการเนื้อเยื...  51   \n",
       "51                             American Sign Language  52   \n",
       "\n",
       "                                              summary  \\\n",
       "50  - โมเดลจำแนกภาพตัดขวางเนื้อเยื่อพืช 8 ประเภท (...   \n",
       "51  - แรงบันดาลใจจากการดูวิดีโอที่มีชื่อว่า “ครู…โ...   \n",
       "\n",
       "                                          title_image  \\\n",
       "50  https://scontent.fbkk12-5.fna.fbcdn.net/v/t39....   \n",
       "51  https://scontent.fbkk12-3.fna.fbcdn.net/v/t39....   \n",
       "\n",
       "                                               images  \\\n",
       "50  ['https://scontent.fbkk12-5.fna.fbcdn.net/v/t3...   \n",
       "51  ['https://scontent.fbkk12-3.fna.fbcdn.net/v/t3...   \n",
       "\n",
       "                                                links  \\\n",
       "50  \\nลองใช้ webapp ได้ที่: https://share.streamli...   \n",
       "51  \\nลองใช้ webapp ได้ที่: https://share.streamli...   \n",
       "\n",
       "                                               reason  \\\n",
       "50  มีความสนใจในภาษา Python แต่ยังใช้งานได้ในระดับ...   \n",
       "51  จากประสบการณ์ที่หนูเคยได้เข้าร่วมกิจกรรม และเข...   \n",
       "\n",
       "                                               author  \\\n",
       "50   วิทวัส กิติภัทร์ถาวร (เอิร์ธ) / มัธยมศึกษาปีท...   \n",
       "51   กรกมล แสงสว่าง (เบลล์) / มัธยมศึกษาปีที่ 6 / ...   \n",
       "\n",
       "                                             fulltext  \\\n",
       "50  #AIBuilders Showcase Series #51 - Crossec : ระ...   \n",
       "51  #AIBuilders Showcase Series #52 - American Sig...   \n",
       "\n",
       "                                             post_url     date  \n",
       "50  https://facebook.com/aibuildersx/posts/4328568...  31-7-22  \n",
       "51  https://facebook.com/aibuildersx/posts/4349121...   1-8-22  "
      ]
     },
     "execution_count": 118,
     "metadata": {},
     "output_type": "execute_result"
    }
   ],
   "source": [
    "data[30:32]"
   ]
  },
  {
   "cell_type": "code",
   "execution_count": 119,
   "metadata": {},
   "outputs": [],
   "source": [
    "# to csv\n",
    "data.to_csv('showcase_data_cleaned(2022).csv', index=False)"
   ]
  },
  {
   "cell_type": "code",
   "execution_count": 120,
   "metadata": {},
   "outputs": [
    {
     "data": {
      "text/plain": [
       "20     1-7-22\n",
       "21     2-7-22\n",
       "22     3-7-22\n",
       "23     4-7-22\n",
       "24     5-7-22\n",
       "25     6-7-22\n",
       "26     7-7-22\n",
       "27     8-7-22\n",
       "28     9-7-22\n",
       "29    10-7-22\n",
       "30    11-7-22\n",
       "31    12-7-22\n",
       "32    13-7-22\n",
       "33    14-7-22\n",
       "34    15-7-22\n",
       "35    16-7-22\n",
       "36    17-7-22\n",
       "37    18-7-22\n",
       "38    19-7-22\n",
       "39    20-7-22\n",
       "40    21-7-22\n",
       "41    22-7-22\n",
       "42    23-7-22\n",
       "43    24-7-22\n",
       "44    25-7-22\n",
       "45    26-7-22\n",
       "46    27-7-22\n",
       "47    28-7-22\n",
       "48    29-7-22\n",
       "49    30-7-22\n",
       "50    31-7-22\n",
       "51     1-8-22\n",
       "52     2-8-22\n",
       "53     3-8-22\n",
       "54     4-8-22\n",
       "55     5-8-22\n",
       "56     6-8-22\n",
       "57     7-8-22\n",
       "58     8-8-22\n",
       "59     9-8-22\n",
       "60    10-8-22\n",
       "61    11-8-22\n",
       "62    12-8-22\n",
       "63    13-8-22\n",
       "64    14-8-22\n",
       "Name: date, dtype: object"
      ]
     },
     "execution_count": 120,
     "metadata": {},
     "output_type": "execute_result"
    }
   ],
   "source": [
    "data['date']"
   ]
  },
  {
   "cell_type": "code",
   "execution_count": null,
   "metadata": {},
   "outputs": [],
   "source": []
  },
  {
   "cell_type": "code",
   "execution_count": null,
   "metadata": {},
   "outputs": [],
   "source": []
  }
 ],
 "metadata": {
  "kernelspec": {
   "display_name": "pytorch-env37",
   "language": "python",
   "name": "python3"
  },
  "language_info": {
   "codemirror_mode": {
    "name": "ipython",
    "version": 3
   },
   "file_extension": ".py",
   "mimetype": "text/x-python",
   "name": "python",
   "nbconvert_exporter": "python",
   "pygments_lexer": "ipython3",
   "version": "3.7.13 (default, Mar 28 2022, 08:03:21) [MSC v.1916 64 bit (AMD64)]"
  },
  "orig_nbformat": 4,
  "vscode": {
   "interpreter": {
    "hash": "bf6f08387108721775e3e7f84c72ffb8aaa11c9296882e4b4dba03992abc3de0"
   }
  }
 },
 "nbformat": 4,
 "nbformat_minor": 2
}
